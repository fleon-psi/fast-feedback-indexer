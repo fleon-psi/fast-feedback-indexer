{
 "cells": [
  {
   "cell_type": "markdown",
   "id": "796da504",
   "metadata": {},
   "source": [
    "**Index Simple Data Files With The Fast Feedback Indexer**\n",
    "\n",
    "(hans-christian.stadler@psi.ch)"
   ]
  },
  {
   "cell_type": "code",
   "execution_count": 1,
   "id": "4f5aacd8",
   "metadata": {},
   "outputs": [],
   "source": [
    "import os\n",
    "import sys\n",
    "import os.path\n",
    "import numpy as np\n",
    "import matplotlib.pyplot as plt"
   ]
  },
  {
   "cell_type": "markdown",
   "id": "3302d875",
   "metadata": {},
   "source": [
    "In order to import the fast-feedback-indexer python module\n",
    "- the system environment has to be setup correctly. This can be done by sourcing the setup-env.sh scipt that comes with the fast-feedback-indexer, or via the spack module, or manually.\n",
    "- the fast-feedback-indexer cmake compilation needs to be setup to produce the python module.\n",
    "\n",
    "A qick and dirty test is to see if your PYTHONPATH points to the fast-feedback-indexer python module:"
   ]
  },
  {
   "cell_type": "code",
   "execution_count": 2,
   "id": "208d4ec9",
   "metadata": {},
   "outputs": [
    {
     "name": "stdout",
     "output_type": "stream",
     "text": [
      "OK: ffbidx is in your python module search path\n"
     ]
    }
   ],
   "source": [
    "if any([\"ffbidx\" in path for path in sys.path]):\n",
    "    print(\"OK: ffbidx is in your python module search path\")\n",
    "else:\n",
    "    print(\"WARNING: ffbidx is NOT in your python module search path\")"
   ]
  },
  {
   "cell_type": "code",
   "execution_count": 3,
   "id": "1e89f2e5",
   "metadata": {},
   "outputs": [],
   "source": [
    "# set python module log level (fatal, error, warn, info, debug) and import fast-feedback-indexer python module\n",
    "os.environ[\"INDEXER_LOG_LEVEL\"] = \"info\"\n",
    "\n",
    "import ffbidx"
   ]
  },
  {
   "cell_type": "markdown",
   "id": "b4ee667c",
   "metadata": {},
   "source": [
    "Simple data files are described [here](https://github.com/paulscherrerinstitute/fast-feedback-indexer/tree/main/data/simple), and the files this notebook uses are [here](https://github.com/paulscherrerinstitute/fast-feedback-indexer/tree/main/data/simple). If you have cloned the fast-feedback-indexer repository and execute this notebook directly from its repository folder, the path below should be correct. Otherwise please adapt the notebook. A quick and dirty check is to see if one of the expected files is present.\n",
    "\n"
   ]
  },
  {
   "cell_type": "code",
   "execution_count": 4,
   "id": "cfd4d844",
   "metadata": {},
   "outputs": [
    {
     "name": "stdout",
     "output_type": "stream",
     "text": [
      "OK: simple data file directory seems to be OK\n"
     ]
    }
   ],
   "source": [
    "simple_data_file_dir = \"../../data/simple/files\"\n",
    "\n",
    "if os.path.exists(os.path.join(simple_data_file_dir, \"image0_local.txt\")):\n",
    "    print(\"OK: simple data file directory seems to be OK\")\n",
    "else:\n",
    "    print(\"WARNING: simple data file directory doesn't look OK\")"
   ]
  },
  {
   "cell_type": "markdown",
   "id": "4db71590",
   "metadata": {},
   "source": [
    "There are 10 simple data files in the repository, numbered 0 to 9. Each of them is present in 3 version: local, peakfinder8, radial. The versions refer to the method that produced the spots.\n",
    "\n",
    "Choose a file/version:"
   ]
  },
  {
   "cell_type": "code",
   "execution_count": 5,
   "id": "a0006391",
   "metadata": {},
   "outputs": [
    {
     "name": "stdout",
     "output_type": "stream",
     "text": [
      "OK\n"
     ]
    }
   ],
   "source": [
    "file_number = 0\n",
    "file_version = \"peakfinder8\"\n",
    "\n",
    "file_path = os.path.join(simple_data_file_dir, f\"image{file_number}_{file_version}.txt\")\n",
    "if os.path.exists(file_path):\n",
    "    print(\"OK\")\n",
    "else:\n",
    "    print(\"WARNING: file/version doesn't exist\")"
   ]
  },
  {
   "cell_type": "markdown",
   "id": "2a1dbf9c",
   "metadata": {},
   "source": [
    "Read the simple data file. There should be one input cell in real space and some spots in reciprocal space. Some lines could be comments starting with \\#."
   ]
  },
  {
   "cell_type": "code",
   "execution_count": 6,
   "id": "96e7b275",
   "metadata": {},
   "outputs": [],
   "source": [
    "coords = []\n",
    "with open(file_path, \"r\") as f:\n",
    "    for line in f.readlines():\n",
    "        try:\n",
    "            coords += [float(x) for x in line.split()]\n",
    "        except:\n",
    "            pass"
   ]
  },
  {
   "cell_type": "markdown",
   "id": "3efff7f7",
   "metadata": {},
   "source": [
    "For the fast-feedback-indexer, input data has to be in float32 column major (Fortran) memory order. There should be a multiple of 3 coordinate pairs, as the cell and spot vectors are in 3D."
   ]
  },
  {
   "cell_type": "code",
   "execution_count": 7,
   "id": "68c9873d",
   "metadata": {},
   "outputs": [
    {
     "name": "stdout",
     "output_type": "stream",
     "text": [
      "(866, 3) float32\n",
      "  C_CONTIGUOUS : False\n",
      "  F_CONTIGUOUS : True\n",
      "  OWNDATA : True\n",
      "  WRITEABLE : True\n",
      "  ALIGNED : True\n",
      "  WRITEBACKIFCOPY : False\n",
      "\n"
     ]
    }
   ],
   "source": [
    "input_data = np.asarray(np.array(coords).reshape(-1, 3), dtype='float32', order='F')\n",
    "\n",
    "if input_data.shape[0] < 4:\n",
    "    print(\"WARNING: data looks bad\")\n",
    "\n",
    "print(input_data.shape, input_data.dtype)\n",
    "print(input_data.flags)"
   ]
  },
  {
   "cell_type": "markdown",
   "id": "7dc96d2b",
   "metadata": {},
   "source": [
    "First and only input cell in real space:"
   ]
  },
  {
   "cell_type": "code",
   "execution_count": 8,
   "id": "b7c135b4",
   "metadata": {},
   "outputs": [
    {
     "data": {
      "text/plain": [
       "array([[3.69000e+01, 0.00000e+00, 0.00000e+00],\n",
       "       [4.83429e-15, 7.89500e+01, 0.00000e+00],\n",
       "       [4.83429e-15, 4.83429e-15, 7.89500e+01]], dtype=float32)"
      ]
     },
     "execution_count": 8,
     "metadata": {},
     "output_type": "execute_result"
    }
   ],
   "source": [
    "input_cell = np.asarray(input_data[:3,:], dtype='float32', order='F')\n",
    "input_cell"
   ]
  },
  {
   "cell_type": "markdown",
   "id": "eaacebe3",
   "metadata": {},
   "source": [
    "First spot in reciprocal space:"
   ]
  },
  {
   "cell_type": "code",
   "execution_count": 9,
   "id": "a0bc8106",
   "metadata": {},
   "outputs": [
    {
     "data": {
      "text/plain": [
       "array([-0.0328844, -0.723767 , -0.31074  ], dtype=float32)"
      ]
     },
     "execution_count": 9,
     "metadata": {},
     "output_type": "execute_result"
    }
   ],
   "source": [
    "spots = np.asarray(input_data[3:,:], dtype='float32', order='F')\n",
    "spots[0,:]"
   ]
  },
  {
   "cell_type": "markdown",
   "id": "9f2f572f",
   "metadata": {},
   "source": [
    "Create an indexer object. This will return a handle to the object (sorry for the not so python-like interface). Check the description of [ffbidx.indexer()](https://github.com/paulscherrerinstitute/fast-feedback-indexer/tree/main/python). Her the argumets are:\n",
    "1) 32 output cells\n",
    "2) 1 input cell\n",
    "3) the 300 first are considered, or less if there aren't that many\n",
    "4) 32 candidate vectors: the algorithms single vector brute force sampling step takes the 32 best vectors and computes the 32 best cells using these vectors as rotation axes.\n",
    "\n",
    "The GPU device is set via the INDEXER_GPU_DEVICE environment variable. This call allocates memory on the GPU device."
   ]
  },
  {
   "cell_type": "code",
   "execution_count": 10,
   "id": "18445fb5",
   "metadata": {},
   "outputs": [
    {
     "name": "stderr",
     "output_type": "stream",
     "text": [
      "(info) using GPU device 0\n"
     ]
    }
   ],
   "source": [
    "os.environ[\"INDEXER_GPU_DEVICE\"] = \"0\"\n",
    "h = ffbidx.indexer(32, 1, 300, 32)"
   ]
  },
  {
   "cell_type": "markdown",
   "id": "22137c7f",
   "metadata": {},
   "source": [
    "Now you can index input data using [ffbidx.index()](https://github.com/paulscherrerinstitute/fast-feedback-indexer/tree/main/python). This function can be called several times, of course. E.g. for every frame to be indexed. The arguments are:\n",
    "1) indexer object handle\n",
    "2) spots in reciprocal space\n",
    "3) input cells in real space\n",
    "4) refinement method\n",
    "5) vector length threshold: vectors are considered to be of the same length if the length differs by less than this threshold\n",
    "6) lower trim value for scoring (look at the description in the repo)\n",
    "7) higher trim value for scoring (look at description)\n",
    "8) delta value for scoring (look at description)\n",
    "9) number of sampling points on the half sphere\n",
    "10) number of output cells (can be less than reserved for in the ffbidx.indexer() call)\n",
    "11) refinement threshold contraction factor (to be described, lsq refinment to spots approximated within a contracting threshold)\n",
    "12) refinement minimum number of spots (to be described, quit refinement if there are less spots within the threshold)\n",
    "13) refinement maximum number of iterations (to be described, quit refinement if the number of refinement iterations has reached this)\n",
    "\n",
    "This returns the 32 best cells found together with scores (worst error among the best minimum number of spots). The cells are returned as a C array, but in column mayor (Fortran) order."
   ]
  },
  {
   "cell_type": "code",
   "execution_count": 11,
   "id": "be31a352",
   "metadata": {},
   "outputs": [
    {
     "name": "stdout",
     "output_type": "stream",
     "text": [
      "CPU times: user 12.2 ms, sys: 383 µs, total: 12.6 ms\n",
      "Wall time: 12.6 ms\n",
      "cells (3, 96) float32\n",
      "  C_CONTIGUOUS : True\n",
      "  F_CONTIGUOUS : False\n",
      "  OWNDATA : True\n",
      "  WRITEABLE : True\n",
      "  ALIGNED : True\n",
      "  WRITEBACKIFCOPY : False\n",
      "\n",
      "[[ 28.901472  -28.184898  -39.431408  -28.901472  -28.184898   39.431408\n",
      "   28.923906   39.470116  -28.170324  -28.923906   39.470116   28.170324\n",
      "   28.916422  -28.186462  -39.419518  -28.916422  -28.186462   39.419518\n",
      "   28.910732   39.42312   -28.194351  -28.910732   39.42312    28.194351\n",
      "   28.902771   39.42448   -28.18762   -28.902771   39.42448    28.18762\n",
      "   28.911707  -28.183792  -39.424805  -28.911707  -28.183792   39.424805\n",
      "   28.90025    39.42605   -28.193424  -28.90025    39.42605    28.193424\n",
      "   28.89505    39.42716   -28.19778   -28.89505    39.42716    28.19778\n",
      "   28.913734   39.424362  -28.186214  -28.913734   39.424362   28.186214\n",
      "   28.940584   39.518944  -30.25771   -28.940584   39.518944   30.25771\n",
      "   28.931187  -28.232695  -41.11347   -28.931187  -28.232695   41.11347\n",
      "   28.92765    39.4784    -28.9823    -28.92765    39.4784     28.9823\n",
      "   28.909735  -28.187675  -39.424633  -28.909735  -28.187675   39.424633\n",
      "   28.952734   39.46954   -30.114191  -28.952734   39.46954    30.114191\n",
      "   28.883528   39.412506  -26.527628  -28.883528   39.412506   26.527628\n",
      "  -19.990871   66.50874     0.9812538  19.990871   66.50874    -0.9812538]\n",
      " [-20.352592  -60.36914   -24.988747   20.352592  -60.36914    24.988747\n",
      "  -20.34701    25.008518  -60.442772   20.34701    25.008518   60.442772\n",
      "  -20.3513    -60.37107   -24.98488    20.3513    -60.37107    24.98488\n",
      "  -20.351978   24.98311   -60.379875   20.351978   24.98311    60.379875\n",
      "  -20.351643   24.984869  -60.36956    20.351643   24.984869   60.36956\n",
      "  -20.350767  -60.369526  -24.984686   20.350767  -60.369526   24.984686\n",
      "  -20.345873   24.981342  -60.385506   20.345873   24.981342   60.385506\n",
      "  -20.359638   24.986181  -60.38037    20.359638   24.986181   60.38037\n",
      "  -20.34952    24.984406  -60.37101    20.34952    24.984406   60.37101\n",
      "  -20.37425    24.980906  -60.128307   20.37425    24.980906   60.128307\n",
      "  -20.360313  -60.416138  -23.987776   20.360313  -60.416138   23.987776\n",
      "  -20.383427   25.003088  -59.966545   20.383427   25.003088   59.966545\n",
      "  -20.349442  -60.37214   -24.984074   20.349442  -60.37214    24.984074\n",
      "  -20.336075   24.968758  -60.496906   20.336075   24.968758   60.496906\n",
      "  -20.363445   24.972906  -61.695667   20.363445   24.972906   61.695667\n",
      "    8.272599    9.353618   75.9442     -8.272599    9.353618  -75.9442   ]\n",
      " [-10.251393   41.03396   -63.104706   10.251393   41.03396    63.104706\n",
      "  -10.257495   62.95947    41.081017   10.257495   62.95947   -41.081017\n",
      "  -10.25634    41.033066  -63.125412   10.25634    41.033066   63.125412\n",
      "  -10.260579   63.108997   41.026318   10.260579   63.108997  -41.026318\n",
      "  -10.254177   63.117867   41.037533   10.254177   63.117867  -41.037533\n",
      "  -10.259394   41.03398   -63.11687    10.259394   41.03398    63.11687\n",
      "  -10.231458   63.100883   41.012638   10.231458   63.100883  -41.012638\n",
      "  -10.261215   63.111874   41.031303   10.261215   63.111874  -41.031303\n",
      "  -10.257227   63.11638    41.031384   10.257227   63.11638   -41.031384\n",
      "  -10.264273   62.84129    41.410793   10.264273   62.84129   -41.410793\n",
      "  -10.330859   40.9295    -63.066853   10.330859   40.9295     63.066853\n",
      "  -10.305523   63.09702    42.96317    10.305523   63.09702   -42.96317\n",
      "  -10.256013   41.028736  -63.11542    10.256013   41.028736   63.11542\n",
      "  -10.302985   62.958675   41.291183   10.302985   62.958675  -41.291183\n",
      "  -10.219607   63.14659    41.363888   10.219607   63.14659   -41.363888\n",
      "   29.69948    41.869812  -19.77672   -29.69948    41.869812   19.77672  ]]\n",
      "scores (32,) float32\n",
      "[0.00828346 0.00828346 0.00757411 0.00757411 0.00827913 0.00827913\n",
      " 0.00826271 0.00826271 0.00847611 0.00847611 0.00842672 0.00842672\n",
      " 0.00876218 0.00876218 0.00862511 0.00862511 0.0082758  0.0082758\n",
      " 0.02045427 0.02045427 0.01927848 0.01927848 0.00805837 0.00805837\n",
      " 0.00932155 0.00932155 0.01342939 0.01342939 0.01428654 0.01428654\n",
      " 0.03113669 0.03113669]\n"
     ]
    },
    {
     "name": "stderr",
     "output_type": "stream",
     "text": [
      "(info) indexing_time: 0.995333ms\n",
      "(info) kernel_time: 0.896736ms\n"
     ]
    }
   ],
   "source": [
    "%time cells, scores = ffbidx.index(h, spots, input_cell, \"ifss\", 1e-9, .05, .3, .1, 32*1024, 32, .8, 6, 15)\n",
    "print(\"cells\", cells.shape, cells.dtype)\n",
    "print(cells.flags)\n",
    "print(cells)\n",
    "print(\"scores\", scores.shape, scores.dtype)\n",
    "print(scores)"
   ]
  },
  {
   "cell_type": "markdown",
   "id": "b1441c55",
   "metadata": {},
   "source": [
    "Release the indexer object and associated resources on the GPU device. After that the handle is invalid."
   ]
  },
  {
   "cell_type": "code",
   "execution_count": 12,
   "id": "34d9d6da",
   "metadata": {},
   "outputs": [],
   "source": [
    "ffbidx.release(h)"
   ]
  },
  {
   "cell_type": "markdown",
   "id": "6dbc4d60",
   "metadata": {},
   "source": [
    "Look at the best cell now:"
   ]
  },
  {
   "cell_type": "code",
   "execution_count": 13,
   "id": "e3f9aa68",
   "metadata": {},
   "outputs": [
    {
     "name": "stdout",
     "output_type": "stream",
     "text": [
      "best score is 0.0075741136\n"
     ]
    },
    {
     "data": {
      "text/plain": [
       "array([[ 28.923906,  39.470116, -28.170324],\n",
       "       [-20.34701 ,  25.008518, -60.442772],\n",
       "       [-10.257495,  62.95947 ,  41.081017]], dtype=float32)"
      ]
     },
     "execution_count": 13,
     "metadata": {},
     "output_type": "execute_result"
    }
   ],
   "source": [
    "i = np.argmin(scores)\n",
    "print(\"best score is\", scores[i])\n",
    "cell = cells[:, 3*i:3*i+3]\n",
    "cell"
   ]
  },
  {
   "cell_type": "markdown",
   "id": "787f6666",
   "metadata": {},
   "source": [
    "Function to show some info for a lattice base B:"
   ]
  },
  {
   "cell_type": "code",
   "execution_count": 14,
   "id": "ff45812f",
   "metadata": {},
   "outputs": [],
   "source": [
    "def cell_info(B, **args):\n",
    "    return dict({\n",
    "        'det': np.linalg.det(B),\n",
    "        'vlen': np.linalg.norm(B, axis=0),\n",
    "        'angle': [np.rad2deg(np.arccos(np.dot(B[:, i], B[:, (i+1)%3]) / (np.linalg.norm(B[:, i]) * np.linalg.norm(B[:, (i+1)%3])))) for i in range(3)]\n",
    "    }, **args)\n"
   ]
  },
  {
   "cell_type": "code",
   "execution_count": 15,
   "id": "93bd4e52",
   "metadata": {},
   "outputs": [
    {
     "name": "stdout",
     "output_type": "stream",
     "text": [
      "{'det': 230001.47, 'vlen': array([36.9 , 78.95, 78.95], dtype=float32), 'angle': [90.0, 90.0, 90.0], 'cell': 'input'}\n",
      "{'det': 226108.12, 'vlen': array([36.821316, 78.40415 , 78.32334 ], dtype=float32), 'angle': [90.2585, 90.34551, 90.12624], 'cell': 'best'}\n"
     ]
    }
   ],
   "source": [
    "print(cell_info(input_cell, cell=\"input\"))\n",
    "print(cell_info(cell, cell=\"best\"))"
   ]
  },
  {
   "cell_type": "markdown",
   "id": "45b13698",
   "metadata": {},
   "source": [
    "Function to plot some error statistics."
   ]
  },
  {
   "cell_type": "code",
   "execution_count": 16,
   "id": "dd6547c8",
   "metadata": {},
   "outputs": [],
   "source": [
    "def plot_error(B, S, title):\n",
    "    fig, ax = plt.subplots(nrows=1, ncols=3, figsize=(15,6))\n",
    "    C = S @ B\n",
    "    Z = C.round()\n",
    "    e = np.linalg.norm(C - Z, axis=1)\n",
    "    ax[0].plot(e)\n",
    "    ax[0].set_xlabel('spot')\n",
    "    ax[0].set_ylabel('error')\n",
    "    _ = ax[1].hist(e, bins=50)\n",
    "    ax[1].set_xlabel('error')\n",
    "    ax[1].set_ylabel('number of spots')\n",
    "    _ = ax[2].hist(e, bins=50, cumulative=True, histtype='step')\n",
    "    ax[2].set_xlabel('error')\n",
    "    ax[2].set_ylabel('number of spots')\n",
    "    ax[1].set_title(title)\n",
    "    plt.tight_layout()"
   ]
  },
  {
   "cell_type": "code",
   "execution_count": 17,
   "id": "20de6533",
   "metadata": {},
   "outputs": [
    {
     "data": {
      "image/png": "[encoded data removed]",
      "text/plain": [
       "<Figure size 1500x600 with 3 Axes>"
      ]
     },
     "metadata": {},
     "output_type": "display_data"
    }
   ],
   "source": [
    "plot_error(cell, spots, \"Some error statistics\")"
   ]
  },
  {
   "cell_type": "code",
   "execution_count": null,
   "id": "40ccf98e",
   "metadata": {},
   "outputs": [],
   "source": []
  }
 ],
 "metadata": {
  "kernelspec": {
   "display_name": "Python 3 (ipykernel)",
   "language": "python",
   "name": "python3"
  },
  "language_info": {
   "codemirror_mode": {
    "name": "ipython",
    "version": 3
   },
   "file_extension": ".py",
   "mimetype": "text/x-python",
   "name": "python",
   "nbconvert_exporter": "python",
   "pygments_lexer": "ipython3",
   "version": "3.10.10"
  },
  "vscode": {
   "interpreter": {
    "hash": "1bbd11e642fa61a330cc136191d56a331962618ee939c7219332224bb95f8f60"
   }
  }
 },
 "nbformat": 4,
 "nbformat_minor": 5
}
