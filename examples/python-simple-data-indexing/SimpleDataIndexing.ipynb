{
 "cells": [
  {
   "attachments": {},
   "cell_type": "markdown",
   "id": "796da504",
   "metadata": {},
   "source": [
    "**Index Simple Data Files With The Fast Feedback Indexer**\n",
    "\n",
    "(hans-christian.stadler@psi.ch)"
   ]
  },
  {
   "cell_type": "code",
   "execution_count": 265,
   "id": "4f5aacd8",
   "metadata": {},
   "outputs": [],
   "source": [
    "import os\n",
    "import sys\n",
    "import os.path\n",
    "import numpy as np\n",
    "import matplotlib.pyplot as plt"
   ]
  },
  {
   "attachments": {},
   "cell_type": "markdown",
   "id": "3302d875",
   "metadata": {},
   "source": [
    "In order to import the fast-feedback-indexer python module\n",
    "- the system environment has to be setup correctly. This can be done by sourcing the setup-env.sh scipt that comes with the fast-feedback-indexer, or via the spack module, or manually.\n",
    "- the fast-feedback-indexer cmake compilation needs to be setup to produce the python module.\n",
    "\n",
    "A qick and dirty test is to see if your PYTHONPATH points to the fast-feedback-indexer python module:"
   ]
  },
  {
   "cell_type": "code",
   "execution_count": 266,
   "id": "208d4ec9",
   "metadata": {},
   "outputs": [
    {
     "name": "stdout",
     "output_type": "stream",
     "text": [
      "OK: ffbidx is in your python module search path\n"
     ]
    }
   ],
   "source": [
    "if any([\"ffbidx\" in path for path in sys.path]):\n",
    "    print(\"OK: ffbidx is in your python module search path\")\n",
    "else:\n",
    "    print(\"WARNING: ffbidx is NOT in your python module search path\")"
   ]
  },
  {
   "cell_type": "code",
   "execution_count": 267,
   "id": "1e89f2e5",
   "metadata": {},
   "outputs": [],
   "source": [
    "# set python module log level (fatal, error, warn, info, debug) and import fast-feedback-indexer python module\n",
    "os.environ[\"INDEXER_LOG_LEVEL\"] = \"info\"\n",
    "\n",
    "import ffbidx"
   ]
  },
  {
   "attachments": {},
   "cell_type": "markdown",
   "id": "b4ee667c",
   "metadata": {},
   "source": [
    "Simple data files are described [here](https://github.com/paulscherrerinstitute/fast-feedback-indexer/tree/main/data/simple), and the files this notebook uses are [here](https://github.com/paulscherrerinstitute/fast-feedback-indexer/tree/main/data/simple). If you have cloned the fast-feedback-indexer repository and execute this notebook directly from its repository folder, the path below should be correct. Otherwise please adapt the notebook. A quick and dirty check is to see if one of the expected files is present.\n",
    "\n"
   ]
  },
  {
   "cell_type": "code",
   "execution_count": 268,
   "id": "cfd4d844",
   "metadata": {},
   "outputs": [
    {
     "name": "stdout",
     "output_type": "stream",
     "text": [
      "OK: simple data file directory seems to be OK\n"
     ]
    }
   ],
   "source": [
    "simple_data_file_dir = \"../../data/simple/files\"\n",
    "\n",
    "if os.path.exists(os.path.join(simple_data_file_dir, \"image0_local.txt\")):\n",
    "    print(\"OK: simple data file directory seems to be OK\")\n",
    "else:\n",
    "    print(\"WARNING: simple data file directory doesn't look OK\")"
   ]
  },
  {
   "attachments": {},
   "cell_type": "markdown",
   "id": "4db71590",
   "metadata": {},
   "source": [
    "There are 10 simple data files in the repository, numbered 0 to 9. Each of them is present in 3 version: local, peakfinder8, radial. The versions refer to the method that produced the spots.\n",
    "\n",
    "Choose a file/version:"
   ]
  },
  {
   "cell_type": "code",
   "execution_count": 269,
   "id": "a0006391",
   "metadata": {},
   "outputs": [
    {
     "name": "stdout",
     "output_type": "stream",
     "text": [
      "OK\n"
     ]
    }
   ],
   "source": [
    "file_number = 0\n",
    "file_version = \"peakfinder8\"\n",
    "\n",
    "file_path = os.path.join(simple_data_file_dir, f\"image{file_number}_{file_version}.txt\")\n",
    "if os.path.exists(file_path):\n",
    "    print(\"OK\")\n",
    "else:\n",
    "    print(\"WARNING: file/version doesn't exist\")"
   ]
  },
  {
   "attachments": {},
   "cell_type": "markdown",
   "id": "2a1dbf9c",
   "metadata": {},
   "source": [
    "Read the simple data file. There should be one input cell in real space and some spots in reciprocal space. Some lines could be comments starting with \\#."
   ]
  },
  {
   "cell_type": "code",
   "execution_count": 270,
   "id": "96e7b275",
   "metadata": {},
   "outputs": [],
   "source": [
    "coords = []\n",
    "with open(file_path, \"r\") as f:\n",
    "    for line in f.readlines():\n",
    "        try:\n",
    "            coords += [float(x) for x in line.split()]\n",
    "        except:\n",
    "            pass"
   ]
  },
  {
   "attachments": {},
   "cell_type": "markdown",
   "id": "3efff7f7",
   "metadata": {},
   "source": [
    "For the fast-feedback-indexer, input data has to be in float32 column major (Fortran) memory order. There should be a multiple of 3 coordinate pairs, as the cell and spot vectors are in 3D."
   ]
  },
  {
   "cell_type": "code",
   "execution_count": 271,
   "id": "68c9873d",
   "metadata": {},
   "outputs": [
    {
     "name": "stdout",
     "output_type": "stream",
     "text": [
      "(866, 3) float32\n",
      "  C_CONTIGUOUS : False\n",
      "  F_CONTIGUOUS : True\n",
      "  OWNDATA : True\n",
      "  WRITEABLE : True\n",
      "  ALIGNED : True\n",
      "  WRITEBACKIFCOPY : False\n",
      "\n"
     ]
    }
   ],
   "source": [
    "input_data = np.asarray(np.array(coords).reshape(-1, 3), dtype='float32', order='F')\n",
    "\n",
    "if input_data.shape[0] < 4:\n",
    "    print(\"WARNING: data looks bad\")\n",
    "\n",
    "print(input_data.shape, input_data.dtype)\n",
    "print(input_data.flags)"
   ]
  },
  {
   "attachments": {},
   "cell_type": "markdown",
   "id": "7dc96d2b",
   "metadata": {},
   "source": [
    "First and only input cell in real space:"
   ]
  },
  {
   "cell_type": "code",
   "execution_count": 272,
   "id": "b7c135b4",
   "metadata": {},
   "outputs": [
    {
     "data": {
      "text/plain": [
       "array([[3.69000e+01, 0.00000e+00, 0.00000e+00],\n",
       "       [4.83429e-15, 7.89500e+01, 0.00000e+00],\n",
       "       [4.83429e-15, 4.83429e-15, 7.89500e+01]], dtype=float32)"
      ]
     },
     "execution_count": 272,
     "metadata": {},
     "output_type": "execute_result"
    }
   ],
   "source": [
    "input_cell = input_data[:3,:]\n",
    "input_cell"
   ]
  },
  {
   "cell_type": "markdown",
   "id": "eaacebe3",
   "metadata": {},
   "source": [
    "First spot in reciprocal space:"
   ]
  },
  {
   "cell_type": "code",
   "execution_count": 273,
   "id": "a0bc8106",
   "metadata": {},
   "outputs": [
    {
     "data": {
      "text/plain": [
       "array([-0.0328844, -0.723767 , -0.31074  ], dtype=float32)"
      ]
     },
     "execution_count": 273,
     "metadata": {},
     "output_type": "execute_result"
    }
   ],
   "source": [
    "spots = input_data[3:,:]\n",
    "spots[0,:]"
   ]
  },
  {
   "attachments": {},
   "cell_type": "markdown",
   "id": "9f2f572f",
   "metadata": {},
   "source": [
    "Create an indexer object. This will return a handle to the object (sorry for the not so python-like interface). Check the description of [ffbidx.indexer()](https://github.com/paulscherrerinstitute/fast-feedback-indexer/tree/main/python). Her the argumets are:\n",
    "1) 32 output cells\n",
    "2) 1 input cell\n",
    "3) the 300 first are considered, or less if there aren't that many\n",
    "4) 32 candidate vectors: the algorithms single vector brute force sampling step takes the 32 best vectors and computes the 32 best cells using these vectors as rotation axes.\n",
    "\n",
    "The GPU device is set via the INDEXER_GPU_DEVICE environment variable. This call allocates memory on the GPU device."
   ]
  },
  {
   "cell_type": "code",
   "execution_count": 274,
   "id": "18445fb5",
   "metadata": {},
   "outputs": [
    {
     "name": "stderr",
     "output_type": "stream",
     "text": [
      "(info) using GPU device 0\n"
     ]
    }
   ],
   "source": [
    "os.environ[\"INDEXER_GPU_DEVICE\"] = \"0\"\n",
    "h = ffbidx.indexer(32, 1, 300, 32)"
   ]
  },
  {
   "attachments": {},
   "cell_type": "markdown",
   "id": "22137c7f",
   "metadata": {},
   "source": [
    "Now you can index input data using [ffbidx.index()](https://github.com/paulscherrerinstitute/fast-feedback-indexer/tree/main/python). This function can be called several times, of course. E.g. for every frame to be indexed. The arguments are:\n",
    "1) indexer object handle\n",
    "2) input data\n",
    "3) refinement method\n",
    "4) vector length threshold: vectors are considered to be of the same length if the length differs by less than this threshold\n",
    "5) lower trim value for scoring (look at the description in the repo)\n",
    "6) higher trim value for scoring (look at description)\n",
    "7) delta value for scoring (look at description)\n",
    "8) number of sampling points on the half sphere\n",
    "9) number of output cells (can be less than reserved for in the ffbidx.indexer() call)\n",
    "10) number of input cells\n",
    "11) refinement threshold contraction factor (to be described, lsq refinment to spots approximated within a contracting threshold)\n",
    "12) refinement minimum number of spots (to be described, quit refinement if there are less spots within the threshold)\n",
    "\n",
    "This returns the 32 best cells found together with scores (worst error among the best minimum number of spots). The cells are returned as a C array, but in column mayor (Fortran) order."
   ]
  },
  {
   "cell_type": "code",
   "execution_count": 275,
   "id": "be31a352",
   "metadata": {},
   "outputs": [
    {
     "name": "stdout",
     "output_type": "stream",
     "text": [
      "CPU times: user 13 ms, sys: 297 µs, total: 13.3 ms\n",
      "Wall time: 13.5 ms\n",
      "cells (3, 96) float32\n",
      "  C_CONTIGUOUS : True\n",
      "  F_CONTIGUOUS : False\n",
      "  OWNDATA : True\n",
      "  WRITEABLE : True\n",
      "  ALIGNED : True\n",
      "  WRITEBACKIFCOPY : False\n",
      "\n",
      "[[ 28.900267  -28.193329  -39.433735  -28.900267  -28.193329   39.433735\n",
      "   28.92386    39.470253  -28.171947  -28.92386    39.470253   28.171947\n",
      "   28.925123  -28.17699   -39.428375  -28.925123  -28.17699    39.428375\n",
      "   28.902212   39.416714  -28.199038  -28.902212   39.416714   28.199038\n",
      "   28.903471   39.43524   -28.191341  -28.903471   39.43524    28.191341\n",
      "   28.911043  -28.180347  -39.428448  -28.911043  -28.180347   39.428448\n",
      "   28.90045    39.418808  -28.198708  -28.90045    39.418808   28.198708\n",
      "   28.896774   39.426765  -28.200151  -28.896774   39.426765   28.200151\n",
      "   28.912994   39.42433   -28.18056   -28.912994   39.42433    28.18056\n",
      "   28.940584   39.518944  -30.25771   -28.940584   39.518944   30.25771\n",
      "   28.931187  -28.232695  -41.11347   -28.931187  -28.232695   41.11347\n",
      "   28.92765    39.4784    -28.9823    -28.92765    39.4784     28.9823\n",
      "   28.898653  -28.198042  -39.417442  -28.898653  -28.198042   39.417442\n",
      "   28.952734   39.46954   -30.114191  -28.952734   39.46954    30.114191\n",
      "   28.883528   39.412506  -26.527628  -28.883528   39.412506   26.527628\n",
      "  -19.990871   66.50874     0.9812538  19.990871   66.50874    -0.9812538]\n",
      " [-20.358294  -60.37249   -24.995356   20.358294  -60.37249    24.995356\n",
      "  -20.346119   25.012169  -60.446392   20.346119   25.012169   60.446392\n",
      "  -20.351551  -60.365074  -24.986399   20.351551  -60.365074   24.986399\n",
      "  -20.354189   24.97784   -60.383495   20.354189   24.97784    60.383495\n",
      "  -20.351645   24.991787  -60.36799    20.351645   24.991787   60.36799\n",
      "  -20.354294  -60.363842  -24.989815   20.354294  -60.363842   24.989815\n",
      "  -20.347466   24.979565  -60.392097   20.347466   24.979565   60.392097\n",
      "  -20.35942    24.987734  -60.37936    20.35942    24.987734   60.37936\n",
      "  -20.351103   24.984715  -60.368042   20.351103   24.984715   60.368042\n",
      "  -20.37425    24.980906  -60.128307   20.37425    24.980906   60.128307\n",
      "  -20.360313  -60.416138  -23.987776   20.360313  -60.416138   23.987776\n",
      "  -20.383427   25.003088  -59.966545   20.383427   25.003088   59.966545\n",
      "  -20.355665  -60.376343  -24.992643   20.355665  -60.376343   24.992643\n",
      "  -20.336075   24.968758  -60.496906   20.336075   24.968758   60.496906\n",
      "  -20.363445   24.972906  -61.695667   20.363445   24.972906   61.695667\n",
      "    8.272599    9.353618   75.9442     -8.272599    9.353618  -75.9442   ]\n",
      " [-10.256967   41.055588  -63.100845   10.256967   41.055588   63.100845\n",
      "  -10.254503   62.968895   41.0852     10.254503   62.968895  -41.0852\n",
      "  -10.257475   41.0367    -63.1043     10.257475   41.0367     63.1043\n",
      "  -10.254      63.099464   41.039715   10.254      63.099464  -41.039715\n",
      "  -10.277063   63.11332    41.041832   10.277063   63.11332   -41.041832\n",
      "  -10.261705   41.038853  -63.10923    10.261705   41.038853   63.10923\n",
      "  -10.2455225  63.104794   41.013195   10.2455225  63.104794  -41.013195\n",
      "  -10.2779665  63.121147   41.03982    10.2779665  63.121147  -41.03982\n",
      "  -10.257949   63.10455    41.0308     10.257949   63.10455   -41.0308\n",
      "  -10.264273   62.84129    41.410793   10.264273   62.84129   -41.410793\n",
      "  -10.330859   40.9295    -63.066853   10.330859   40.9295     63.066853\n",
      "  -10.305523   63.09702    42.96317    10.305523   63.09702   -42.96317\n",
      "  -10.252674   41.054863  -63.133488   10.252674   41.054863   63.133488\n",
      "  -10.302985   62.958675   41.291183   10.302985   62.958675  -41.291183\n",
      "  -10.219607   63.14659    41.363888   10.219607   63.14659   -41.363888\n",
      "   29.69948    41.869812  -19.77672   -29.69948    41.869812   19.77672  ]]\n",
      "scores (32,) float32\n",
      "[0.00564082 0.00564082 0.0067289  0.0067289  0.00955484 0.00955484\n",
      " 0.00594464 0.00594464 0.00815206 0.00815206 0.00773799 0.00773799\n",
      " 0.00710458 0.00710458 0.00627674 0.00627674 0.00783475 0.00783475\n",
      " 0.02045427 0.02045427 0.01927848 0.01927848 0.00802352 0.00802352\n",
      " 0.00883771 0.00883771 0.01342939 0.01342939 0.01428654 0.01428654\n",
      " 0.03113669 0.03113669]\n"
     ]
    },
    {
     "name": "stderr",
     "output_type": "stream",
     "text": [
      "(info) indexing_time: 1.25684ms\n",
      "(info) kernel_time: 0.832128ms\n"
     ]
    }
   ],
   "source": [
    "%time cells, scores = ffbidx.index(h, input_data, \"ifss\", 1e-9, .05, .3, .1, 32*1024, 32, 1, .8, 6)\n",
    "print(\"cells\", cells.shape, cells.dtype)\n",
    "print(cells.flags)\n",
    "print(cells)\n",
    "print(\"scores\", scores.shape, scores.dtype)\n",
    "print(scores)"
   ]
  },
  {
   "attachments": {},
   "cell_type": "markdown",
   "id": "b1441c55",
   "metadata": {},
   "source": [
    "Release the indexer object and associated resources on the GPU device. After that the handle is invalid."
   ]
  },
  {
   "cell_type": "code",
   "execution_count": 276,
   "id": "34d9d6da",
   "metadata": {},
   "outputs": [],
   "source": [
    "ffbidx.release(h)"
   ]
  },
  {
   "attachments": {},
   "cell_type": "markdown",
   "id": "6dbc4d60",
   "metadata": {},
   "source": [
    "Look at the best cell now:"
   ]
  },
  {
   "cell_type": "code",
   "execution_count": 277,
   "id": "e3f9aa68",
   "metadata": {},
   "outputs": [
    {
     "name": "stdout",
     "output_type": "stream",
     "text": [
      "best score is 0.0056408243\n"
     ]
    },
    {
     "data": {
      "text/plain": [
       "array([[ 28.900267, -28.193329, -39.433735],\n",
       "       [-20.358294, -60.37249 , -24.995356],\n",
       "       [-10.256967,  41.055588, -63.100845]], dtype=float32)"
      ]
     },
     "execution_count": 277,
     "metadata": {},
     "output_type": "execute_result"
    }
   ],
   "source": [
    "i = np.argmin(scores)\n",
    "print(\"best score is\", scores[i])\n",
    "cell = cells[:, 3*i:3*i+3]\n",
    "cell"
   ]
  },
  {
   "attachments": {},
   "cell_type": "markdown",
   "id": "787f6666",
   "metadata": {},
   "source": [
    "Function to show some info for a lattice base B:"
   ]
  },
  {
   "cell_type": "code",
   "execution_count": 278,
   "id": "ff45812f",
   "metadata": {},
   "outputs": [],
   "source": [
    "def cell_info(B, **args):\n",
    "    return dict({\n",
    "        'det': np.linalg.det(B),\n",
    "        'vlen': np.linalg.norm(B, axis=0),\n",
    "        'angle': [np.rad2deg(np.arccos(np.dot(B[:, i], B[:, (i+1)%3]) / (np.linalg.norm(B[:, i]) * np.linalg.norm(B[:, (i+1)%3])))) for i in range(3)]\n",
    "    }, **args)\n"
   ]
  },
  {
   "cell_type": "code",
   "execution_count": 279,
   "id": "93bd4e52",
   "metadata": {},
   "outputs": [
    {
     "name": "stdout",
     "output_type": "stream",
     "text": [
      "{'det': 230001.47, 'vlen': array([36.9 , 78.95, 78.95], dtype=float32), 'angle': [90.0, 90.0, 90.0], 'cell': 'input'}\n",
      "{'det': 226122.81, 'vlen': array([36.80884, 78.26406, 78.49525], dtype=float32), 'angle': [90.13563, 89.71873, 89.67397], 'cell': 'best'}\n"
     ]
    }
   ],
   "source": [
    "print(cell_info(input_cell, cell=\"input\"))\n",
    "print(cell_info(cell, cell=\"best\"))"
   ]
  },
  {
   "attachments": {},
   "cell_type": "markdown",
   "id": "45b13698",
   "metadata": {},
   "source": [
    "Function to plot some error statistics."
   ]
  },
  {
   "cell_type": "code",
   "execution_count": 280,
   "id": "dd6547c8",
   "metadata": {},
   "outputs": [],
   "source": [
    "def plot_error(B, S, title):\n",
    "    fig, ax = plt.subplots(nrows=1, ncols=3, figsize=(15,6))\n",
    "    C = S @ B\n",
    "    Z = C.round()\n",
    "    e = np.linalg.norm(C - Z, axis=1)\n",
    "    ax[0].plot(e)\n",
    "    ax[0].set_xlabel('spot')\n",
    "    ax[0].set_ylabel('error')\n",
    "    _ = ax[1].hist(e, bins=50)\n",
    "    ax[1].set_xlabel('error')\n",
    "    ax[1].set_ylabel('number of spots')\n",
    "    _ = ax[2].hist(e, bins=50, cumulative=True, histtype='step')\n",
    "    ax[2].set_xlabel('error')\n",
    "    ax[2].set_ylabel('number of spots')\n",
    "    ax[1].set_title(title)\n",
    "    plt.tight_layout()"
   ]
  },
  {
   "cell_type": "code",
   "execution_count": 281,
   "id": "20de6533",
   "metadata": {},
   "outputs": [
    {
     "data": {
      "image/png": "[encoded data removed]",
      "text/plain": [
       "<Figure size 1500x600 with 3 Axes>"
      ]
     },
     "metadata": {},
     "output_type": "display_data"
    }
   ],
   "source": [
    "plot_error(cell, spots, \"Some error statistics\")"
   ]
  },
  {
   "cell_type": "code",
   "execution_count": null,
   "id": "40ccf98e",
   "metadata": {},
   "outputs": [],
   "source": []
  }
 ],
 "metadata": {
  "kernelspec": {
   "display_name": "redml",
   "language": "python",
   "name": "python3"
  },
  "language_info": {
   "codemirror_mode": {
    "name": "ipython",
    "version": 3
   },
   "file_extension": ".py",
   "mimetype": "text/x-python",
   "name": "python",
   "nbconvert_exporter": "python",
   "pygments_lexer": "ipython3",
   "version": "3.10.9"
  },
  "vscode": {
   "interpreter": {
    "hash": "1bbd11e642fa61a330cc136191d56a331962618ee939c7219332224bb95f8f60"
   }
  }
 },
 "nbformat": 4,
 "nbformat_minor": 5
}
