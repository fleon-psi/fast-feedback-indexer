{
 "cells": [
  {
   "cell_type": "markdown",
   "id": "796da504",
   "metadata": {},
   "source": [
    "**Index Simple Data Files With The Fast Feedback Indexer**\n",
    "\n",
    "(hans-christian.stadler@psi.ch)"
   ]
  },
  {
   "cell_type": "code",
   "execution_count": 1,
   "id": "4f5aacd8",
   "metadata": {},
   "outputs": [],
   "source": [
    "import os\n",
    "import sys\n",
    "import os.path\n",
    "import numpy as np\n",
    "import matplotlib.pyplot as plt"
   ]
  },
  {
   "cell_type": "markdown",
   "id": "3302d875",
   "metadata": {},
   "source": [
    "In order to import the fast-feedback-indexer python module\n",
    "- the system environment has to be setup correctly. This can be done by sourcing the setup-env.sh scipt that comes with the fast-feedback-indexer, or via the spack module, or manually.\n",
    "- the fast-feedback-indexer cmake compilation needs to be setup to produce the python module.\n",
    "\n",
    "A qick and dirty test is to see if your PYTHONPATH points to the fast-feedback-indexer python module:"
   ]
  },
  {
   "cell_type": "code",
   "execution_count": 2,
   "id": "208d4ec9",
   "metadata": {},
   "outputs": [
    {
     "name": "stdout",
     "output_type": "stream",
     "text": [
      "OK: ffbidx is in your python module search path\n"
     ]
    }
   ],
   "source": [
    "if any([\"ffbidx\" in path for path in sys.path]):\n",
    "    print(\"OK: ffbidx is in your python module search path\")\n",
    "else:\n",
    "    print(\"WARNING: ffbidx is NOT in your python module search path\")"
   ]
  },
  {
   "cell_type": "code",
   "execution_count": 3,
   "id": "1e89f2e5",
   "metadata": {},
   "outputs": [],
   "source": [
    "# set python module log level (fatal, error, warn, info, debug) and import fast-feedback-indexer python module\n",
    "os.environ[\"INDEXER_LOG_LEVEL\"] = \"info\"\n",
    "\n",
    "import ffbidx"
   ]
  },
  {
   "cell_type": "markdown",
   "id": "b4ee667c",
   "metadata": {},
   "source": [
    "Simple data files are described [here](https://github.com/paulscherrerinstitute/fast-feedback-indexer/tree/main/data/simple), and the files this notebook uses are [here](https://github.com/paulscherrerinstitute/fast-feedback-indexer/tree/main/data/simple). If you have cloned the fast-feedback-indexer repository and execute this notebook directly from its repository folder, the path below should be correct. Otherwise please adapt the notebook. A quick and dirty check is to see if one of the expected files is present.\n",
    "\n"
   ]
  },
  {
   "cell_type": "code",
   "execution_count": 4,
   "id": "cfd4d844",
   "metadata": {},
   "outputs": [
    {
     "name": "stdout",
     "output_type": "stream",
     "text": [
      "OK: simple data file directory seems to be OK\n"
     ]
    }
   ],
   "source": [
    "simple_data_file_dir = \"../../data/simple/files\"\n",
    "\n",
    "if os.path.exists(os.path.join(simple_data_file_dir, \"image0_local.txt\")):\n",
    "    print(\"OK: simple data file directory seems to be OK\")\n",
    "else:\n",
    "    print(\"WARNING: simple data file directory doesn't look OK\")"
   ]
  },
  {
   "cell_type": "markdown",
   "id": "4db71590",
   "metadata": {},
   "source": [
    "There are 10 simple data files in the repository, numbered 0 to 9. Each of them is present in 3 version: local, peakfinder8, radial. The versions refer to the method that produced the spots.\n",
    "\n",
    "Choose a file/version:"
   ]
  },
  {
   "cell_type": "code",
   "execution_count": 5,
   "id": "a0006391",
   "metadata": {},
   "outputs": [
    {
     "name": "stdout",
     "output_type": "stream",
     "text": [
      "OK\n"
     ]
    }
   ],
   "source": [
    "file_number = 0\n",
    "file_version = \"peakfinder8\"\n",
    "\n",
    "file_path = os.path.join(simple_data_file_dir, f\"image{file_number}_{file_version}.txt\")\n",
    "if os.path.exists(file_path):\n",
    "    print(\"OK\")\n",
    "else:\n",
    "    print(\"WARNING: file/version doesn't exist\")"
   ]
  },
  {
   "cell_type": "markdown",
   "id": "2a1dbf9c",
   "metadata": {},
   "source": [
    "Read the simple data file. There should be one input cell in real space and some spots in reciprocal space. Some lines could be comments starting with \\#."
   ]
  },
  {
   "cell_type": "code",
   "execution_count": 6,
   "id": "96e7b275",
   "metadata": {},
   "outputs": [],
   "source": [
    "coords = []\n",
    "with open(file_path, \"r\") as f:\n",
    "    for line in f.readlines():\n",
    "        try:\n",
    "            coords += [float(x) for x in line.split()]\n",
    "        except:\n",
    "            pass"
   ]
  },
  {
   "cell_type": "markdown",
   "id": "3efff7f7",
   "metadata": {},
   "source": [
    "For the fast-feedback-indexer, input data has to be in float32 column major (Fortran) memory order. There should be a multiple of 3 coordinate pairs, as the cell and spot vectors are in 3D."
   ]
  },
  {
   "cell_type": "code",
   "execution_count": 7,
   "id": "68c9873d",
   "metadata": {},
   "outputs": [
    {
     "name": "stdout",
     "output_type": "stream",
     "text": [
      "(866, 3) float32\n",
      "  C_CONTIGUOUS : False\n",
      "  F_CONTIGUOUS : True\n",
      "  OWNDATA : True\n",
      "  WRITEABLE : True\n",
      "  ALIGNED : True\n",
      "  WRITEBACKIFCOPY : False\n",
      "\n"
     ]
    }
   ],
   "source": [
    "input_data = np.asarray(np.array(coords).reshape(-1, 3), dtype='float32', order='F')\n",
    "\n",
    "if input_data.shape[0] < 4:\n",
    "    print(\"WARNING: data looks bad\")\n",
    "\n",
    "print(input_data.shape, input_data.dtype)\n",
    "print(input_data.flags)"
   ]
  },
  {
   "cell_type": "markdown",
   "id": "7dc96d2b",
   "metadata": {},
   "source": [
    "First and only input cell in real space:"
   ]
  },
  {
   "cell_type": "code",
   "execution_count": 8,
   "id": "b7c135b4",
   "metadata": {},
   "outputs": [
    {
     "data": {
      "text/plain": [
       "array([[3.69000e+01, 0.00000e+00, 0.00000e+00],\n",
       "       [4.83429e-15, 7.89500e+01, 0.00000e+00],\n",
       "       [4.83429e-15, 4.83429e-15, 7.89500e+01]], dtype=float32)"
      ]
     },
     "execution_count": 8,
     "metadata": {},
     "output_type": "execute_result"
    }
   ],
   "source": [
    "input_cell = np.asarray(input_data[:3,:], dtype='float32', order='F')\n",
    "input_cell"
   ]
  },
  {
   "cell_type": "markdown",
   "id": "eaacebe3",
   "metadata": {},
   "source": [
    "First spot in reciprocal space:"
   ]
  },
  {
   "cell_type": "code",
   "execution_count": 9,
   "id": "a0bc8106",
   "metadata": {},
   "outputs": [
    {
     "data": {
      "text/plain": [
       "array([-0.0328844, -0.723767 , -0.31074  ], dtype=float32)"
      ]
     },
     "execution_count": 9,
     "metadata": {},
     "output_type": "execute_result"
    }
   ],
   "source": [
    "spots = np.asarray(input_data[3:,:], dtype='float32', order='F')\n",
    "spots[0,:]"
   ]
  },
  {
   "cell_type": "markdown",
   "id": "9f2f572f",
   "metadata": {},
   "source": [
    "Create an indexer object. This will return a handle to the object (sorry for the not so python-like interface). Check the description of [ffbidx.indexer()](https://github.com/paulscherrerinstitute/fast-feedback-indexer/tree/main/python). Her the argumets are:\n",
    "1) 32 output cells\n",
    "2) 1 input cell\n",
    "3) the 300 first are considered, or less if there aren't that many\n",
    "4) 32 candidate vectors: the algorithms single vector brute force sampling step takes the 32 best vectors and computes the 32 best cells using these vectors as rotation axes.\n",
    "\n",
    "The GPU device is set via the INDEXER_GPU_DEVICE environment variable. This call allocates memory on the GPU device."
   ]
  },
  {
   "cell_type": "code",
   "execution_count": 10,
   "id": "18445fb5",
   "metadata": {},
   "outputs": [
    {
     "name": "stderr",
     "output_type": "stream",
     "text": [
      "(info) using GPU device 0\n"
     ]
    }
   ],
   "source": [
    "os.environ[\"INDEXER_GPU_DEVICE\"] = \"0\"\n",
    "h = ffbidx.indexer(32, 1, 300, 32)"
   ]
  },
  {
   "cell_type": "markdown",
   "id": "22137c7f",
   "metadata": {},
   "source": [
    "Now you can index input data using [ffbidx.index()](https://github.com/paulscherrerinstitute/fast-feedback-indexer/tree/main/python). This function can be called several times, of course. E.g. for every frame to be indexed. The arguments are:\n",
    "1) indexer object handle\n",
    "2) spots in reciprocal space\n",
    "3) input cells in real space\n",
    "4) refinement method\n",
    "5) vector length threshold: vectors are considered to be of the same length if the length differs by less than this threshold\n",
    "6) lower trim value for scoring (look at the description in the repo)\n",
    "7) higher trim value for scoring (look at description)\n",
    "8) delta value for scoring (look at description)\n",
    "9) number of sampling points on the half sphere\n",
    "10) number of output cells (can be less than reserved for in the ffbidx.indexer() call)\n",
    "11) refinement threshold contraction factor: lsq refinment to spots approximated within a contracting threshold\n",
    "12) refinement maximum distance to spots: quit refinement when threshold falls below this distance\n",
    "13) refinement minimum number of spots: quit refinement if there are less spots within the refinement threshold\n",
    "14) refinement maximum number of iterations: quit refinement if the number of refinement iterations has reached this\n",
    "\n",
    "This returns the 32 best cells found together with scores (worst error among the best minimum number of spots). The cells are returned as a C array, but in column mayor (Fortran) order."
   ]
  },
  {
   "cell_type": "code",
   "execution_count": 11,
   "id": "be31a352",
   "metadata": {},
   "outputs": [
    {
     "name": "stdout",
     "output_type": "stream",
     "text": [
      "CPU times: user 4.3 ms, sys: 21.4 ms, total: 25.7 ms\n",
      "Wall time: 25.4 ms\n",
      "cells (3, 96) float32\n",
      "  C_CONTIGUOUS : True\n",
      "  F_CONTIGUOUS : False\n",
      "  OWNDATA : True\n",
      "  WRITEABLE : True\n",
      "  ALIGNED : True\n",
      "  WRITEBACKIFCOPY : False\n",
      "\n",
      "[[ 28.908709   39.429832  -28.18229   -28.908709   39.429832   28.18229\n",
      "  -28.902771   39.424477   28.187622   28.902771   39.424477  -28.187622\n",
      "  -28.902485   39.42409    28.19601    28.902485   39.42409   -28.19601\n",
      "   28.895487  -28.179737  -39.479946  -28.895487  -28.179737   39.479946\n",
      "   28.902771   39.424477  -28.187622  -28.902771   39.424477   28.187622\n",
      "   28.902771   39.424477  -28.187622  -28.902771   39.424477   28.187622\n",
      "  -28.919132  -28.17442    39.471375   28.919132  -28.17442   -39.471375\n",
      "   28.909945   39.42214   -28.19268   -28.909945   39.42214    28.19268\n",
      "   28.909945   39.42214   -28.19268   -28.909945   39.42214    28.19268\n",
      "   29.142044  -28.533508  -39.865326  -29.142044  -28.533508   39.865326\n",
      "   28.989008   39.539104  -29.424574  -28.989008   39.539104   29.424574\n",
      "  -28.86754    39.552948  -29.557066   28.86754    39.552948   29.557066\n",
      "   28.978516  -28.211094  -41.227238  -28.978516  -28.211094   41.227238\n",
      "    8.569045   39.414066  -65.68858    -8.569045   39.414066   65.68858\n",
      "   28.92217    39.52519   -26.94852   -28.92217    39.52519    26.94852\n",
      "   28.916862  -28.19477   -39.41621   -28.916862  -28.19477    39.41621  ]\n",
      " [-20.352589   24.988743  -60.369125   20.352589   24.988743   60.369125\n",
      "   20.351643   24.984869   60.36956   -20.351643   24.984869  -60.36956\n",
      "   20.361706   24.986277   60.382233  -20.361706   24.986277  -60.382233\n",
      "  -20.345253  -60.53728   -25.067749   20.345253  -60.53728    25.067749\n",
      "  -20.351643   24.984869  -60.36956    20.351643   24.984869   60.36956\n",
      "  -20.351643   24.984869  -60.36956    20.351643   24.984869   60.36956\n",
      "   20.339506  -60.442577   25.007689  -20.339506  -60.442577  -25.007689\n",
      "  -20.353521   24.98229   -60.37843    20.353521   24.98229    60.37843\n",
      "  -20.353521   24.98229   -60.37843    20.353521   24.98229    60.37843\n",
      "  -20.300024  -60.47938   -25.130026   20.300024  -60.47938    25.130026\n",
      "  -20.380365   24.97041   -59.943943   20.380365   24.97041    59.943943\n",
      "   -8.430745   25.004269   72.42824     8.430745   25.004269  -72.42824\n",
      "  -20.298056  -60.51763   -24.678135   20.298056  -60.51763    24.678135\n",
      "  -34.541798   24.97048    -5.5152287  34.541798   24.97048     5.5152287\n",
      "  -20.370306   25.009182  -62.04057    20.370306   25.009182   62.04057\n",
      "  -20.344269  -60.38252   -24.97724    20.344269  -60.38252    24.97724  ]\n",
      " [-10.265628   63.107796   41.02885    10.265628   63.107796  -41.02885\n",
      "   10.25418    63.117878  -41.037544  -10.25418    63.117878   41.037544\n",
      "   10.28209    63.112495  -41.032066  -10.28209    63.112495   41.032066\n",
      "  -10.246472   41.26533   -62.807297   10.246472   41.26533    62.807297\n",
      "  -10.25418    63.117878   41.037544   10.25418    63.117878  -41.037544\n",
      "  -10.25418    63.117878   41.037544   10.25418    63.117878  -41.037544\n",
      "   10.256384   41.09088    62.95391   -10.256384   41.09088   -62.95391\n",
      "  -10.264347   63.113197   41.019432   10.264347   63.113197  -41.019432\n",
      "  -10.264347   63.113197   41.019432   10.264347   63.113197  -41.019432\n",
      "  -10.867721   42.102386  -61.828625   10.867721   42.102386   61.828625\n",
      "  -10.313145   63.054874   42.174553   10.313145   63.054874  -42.174553\n",
      "   21.007215   62.93215    -9.79649   -21.007215   62.93215     9.79649\n",
      "  -10.369137   41.10452   -62.618942   10.369137   41.10452    62.618942\n",
      "    8.187551   63.09935    43.050175   -8.187551   63.09935   -43.050175\n",
      "  -10.370867   62.95301    41.011127   10.370867   62.95301   -41.011127\n",
      "  -10.251453   41.010334  -63.108784   10.251453   41.010334   63.108784 ]]\n",
      "scores (32,) float32\n",
      "[0.00776644 0.00776644 0.00847614 0.00847614 0.00765636 0.00765636\n",
      " 0.00633002 0.00633002 0.00829034 0.00829034 0.00827899 0.00827899\n",
      " 0.00780425 0.00780425 0.00840226 0.00840226 0.00840226 0.00840226\n",
      " 0.01191731 0.01191731 0.01441317 0.01441317 0.02005437 0.02005437\n",
      " 0.02474225 0.02474225 0.01529709 0.01529709 0.00849566 0.00849566\n",
      " 0.0087284  0.0087284 ]\n"
     ]
    },
    {
     "name": "stderr",
     "output_type": "stream",
     "text": [
      "(info) indexing_time: 18.2815ms\n",
      "(info) kernel_time: 4.17485ms\n"
     ]
    }
   ],
   "source": [
    "%time cells, scores = ffbidx.index(h, spots, input_cell, \"ifss\", 1e-9, .05, .3, .1, 32*1024, 32, .8, .001, 6, 15)\n",
    "print(\"cells\", cells.shape, cells.dtype)\n",
    "print(cells.flags)\n",
    "print(cells)\n",
    "print(\"scores\", scores.shape, scores.dtype)\n",
    "print(scores)"
   ]
  },
  {
   "cell_type": "markdown",
   "id": "b1441c55",
   "metadata": {},
   "source": [
    "Release the indexer object and associated resources on the GPU device. After that the handle is invalid."
   ]
  },
  {
   "cell_type": "code",
   "execution_count": 12,
   "id": "34d9d6da",
   "metadata": {},
   "outputs": [],
   "source": [
    "ffbidx.release(h)"
   ]
  },
  {
   "cell_type": "markdown",
   "id": "6dbc4d60",
   "metadata": {},
   "source": [
    "Look at the best cell now:"
   ]
  },
  {
   "cell_type": "code",
   "execution_count": 13,
   "id": "e3f9aa68",
   "metadata": {},
   "outputs": [
    {
     "name": "stdout",
     "output_type": "stream",
     "text": [
      "best score is 0.0063300203\n"
     ]
    },
    {
     "data": {
      "text/plain": [
       "array([[ 28.895487, -28.179737, -39.479946],\n",
       "       [-20.345253, -60.53728 , -25.067749],\n",
       "       [-10.246472,  41.26533 , -62.807297]], dtype=float32)"
      ]
     },
     "execution_count": 13,
     "metadata": {},
     "output_type": "execute_result"
    }
   ],
   "source": [
    "i = np.argmin(scores)\n",
    "print(\"best score is\", scores[i])\n",
    "cell = cells[:, 3*i:3*i+3]\n",
    "cell"
   ]
  },
  {
   "cell_type": "markdown",
   "id": "787f6666",
   "metadata": {},
   "source": [
    "Function to show some info for a lattice base B:"
   ]
  },
  {
   "cell_type": "code",
   "execution_count": 14,
   "id": "ff45812f",
   "metadata": {},
   "outputs": [],
   "source": [
    "def cell_info(B, **args):\n",
    "    return dict({\n",
    "        'det': np.linalg.det(B),\n",
    "        'vlen': np.linalg.norm(B, axis=0),\n",
    "        'angle': [np.rad2deg(np.arccos(np.dot(B[:, i], B[:, (i+1)%3]) / (np.linalg.norm(B[:, i]) * np.linalg.norm(B[:, (i+1)%3])))) for i in range(3)]\n",
    "    }, **args)\n"
   ]
  },
  {
   "cell_type": "code",
   "execution_count": 15,
   "id": "93bd4e52",
   "metadata": {},
   "outputs": [
    {
     "name": "stdout",
     "output_type": "stream",
     "text": [
      "{'det': 230001.47, 'vlen': array([36.9 , 78.95, 78.95], dtype=float32), 'angle': [90.0, 90.0, 90.0], 'cell': 'input'}\n",
      "{'det': 226161.73, 'vlen': array([36.794952, 78.496414, 78.3059  ], dtype=float32), 'angle': [90.10801, 89.64295, 89.74605], 'cell': 'best'}\n"
     ]
    }
   ],
   "source": [
    "print(cell_info(input_cell, cell=\"input\"))\n",
    "print(cell_info(cell, cell=\"best\"))"
   ]
  },
  {
   "cell_type": "markdown",
   "id": "45b13698",
   "metadata": {},
   "source": [
    "Function to plot some error statistics."
   ]
  },
  {
   "cell_type": "code",
   "execution_count": 16,
   "id": "dd6547c8",
   "metadata": {},
   "outputs": [],
   "source": [
    "def plot_error(B, S, title):\n",
    "    fig, ax = plt.subplots(nrows=1, ncols=3, figsize=(15,6))\n",
    "    C = S @ B\n",
    "    Z = C.round()\n",
    "    e = np.linalg.norm(C - Z, axis=1)\n",
    "    ax[0].plot(e)\n",
    "    ax[0].set_xlabel('spot')\n",
    "    ax[0].set_ylabel('error')\n",
    "    _ = ax[1].hist(e, bins=50)\n",
    "    ax[1].set_xlabel('error')\n",
    "    ax[1].set_ylabel('number of spots')\n",
    "    _ = ax[2].hist(e, bins=50, cumulative=True, histtype='step')\n",
    "    ax[2].set_xlabel('error')\n",
    "    ax[2].set_ylabel('number of spots')\n",
    "    ax[1].set_title(title)\n",
    "    plt.tight_layout()"
   ]
  },
  {
   "cell_type": "code",
   "execution_count": 17,
   "id": "20de6533",
   "metadata": {},
   "outputs": [
    {
     "data": {
      "image/png": "[encoded data removed]",
      "text/plain": [
       "<Figure size 1500x600 with 3 Axes>"
      ]
     },
     "metadata": {},
     "output_type": "display_data"
    }
   ],
   "source": [
    "plot_error(cell, spots, \"Some error statistics\")"
   ]
  },
  {
   "cell_type": "code",
   "execution_count": null,
   "id": "40ccf98e",
   "metadata": {},
   "outputs": [],
   "source": []
  }
 ],
 "metadata": {
  "kernelspec": {
   "display_name": "Python 3 (ipykernel)",
   "language": "python",
   "name": "python3"
  },
  "language_info": {
   "codemirror_mode": {
    "name": "ipython",
    "version": 3
   },
   "file_extension": ".py",
   "mimetype": "text/x-python",
   "name": "python",
   "nbconvert_exporter": "python",
   "pygments_lexer": "ipython3",
   "version": "3.11.7"
  },
  "vscode": {
   "interpreter": {
    "hash": "1bbd11e642fa61a330cc136191d56a331962618ee939c7219332224bb95f8f60"
   }
  }
 },
 "nbformat": 4,
 "nbformat_minor": 5
}
