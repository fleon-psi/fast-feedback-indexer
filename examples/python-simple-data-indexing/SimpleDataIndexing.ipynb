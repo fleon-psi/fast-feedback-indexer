{
 "cells": [
  {
   "cell_type": "markdown",
   "id": "796da504",
   "metadata": {},
   "source": [
    "**Index Simple Data Files With The Fast Feedback Indexer**\n",
    "\n",
    "(hans-christian.stadler@psi.ch)"
   ]
  },
  {
   "cell_type": "code",
   "execution_count": 1,
   "id": "4f5aacd8",
   "metadata": {},
   "outputs": [],
   "source": [
    "import os\n",
    "import sys\n",
    "import os.path\n",
    "import numpy as np\n",
    "import matplotlib.pyplot as plt"
   ]
  },
  {
   "cell_type": "markdown",
   "id": "3302d875",
   "metadata": {},
   "source": [
    "In order to import the fast-feedback-indexer python module\n",
    "- the system environment has to be setup correctly. This can be done by sourcing the setup-env.sh scipt that comes with the fast-feedback-indexer, or via the spack module, or manually.\n",
    "- the fast-feedback-indexer cmake compilation needs to be setup to produce the python module.\n",
    "\n",
    "A qick and dirty test is to see if your PYTHONPATH points to the fast-feedback-indexer python module:"
   ]
  },
  {
   "cell_type": "code",
   "execution_count": 2,
   "id": "208d4ec9",
   "metadata": {},
   "outputs": [
    {
     "name": "stdout",
     "output_type": "stream",
     "text": [
      "OK: ffbidx is in your python module search path\n"
     ]
    }
   ],
   "source": [
    "if any([\"ffbidx\" in path for path in sys.path]):\n",
    "    print(\"OK: ffbidx is in your python module search path\")\n",
    "else:\n",
    "    print(\"WARNING: ffbidx is NOT in your python module search path\")"
   ]
  },
  {
   "cell_type": "code",
   "execution_count": 3,
   "id": "1e89f2e5",
   "metadata": {},
   "outputs": [],
   "source": [
    "# set python module log level (fatal, error, warn, info, debug) and import fast-feedback-indexer python module\n",
    "os.environ[\"INDEXER_LOG_LEVEL\"] = \"info\"\n",
    "\n",
    "import ffbidx"
   ]
  },
  {
   "cell_type": "markdown",
   "id": "b4ee667c",
   "metadata": {},
   "source": [
    "Simple data files are described [here](https://github.com/paulscherrerinstitute/fast-feedback-indexer/tree/main/data/simple), and the files this notebook uses are [here](https://github.com/paulscherrerinstitute/fast-feedback-indexer/tree/main/data/simple). If you have cloned the fast-feedback-indexer repository and execute this notebook directly from its repository folder, the path below should be correct. Otherwise please adapt the notebook. A quick and dirty check is to see if one of the expected files is present.\n",
    "\n"
   ]
  },
  {
   "cell_type": "code",
   "execution_count": 4,
   "id": "cfd4d844",
   "metadata": {},
   "outputs": [
    {
     "name": "stdout",
     "output_type": "stream",
     "text": [
      "OK: simple data file directory seems to be OK\n"
     ]
    }
   ],
   "source": [
    "simple_data_file_dir = \"../../data/simple/files\"\n",
    "\n",
    "if os.path.exists(os.path.join(simple_data_file_dir, \"image0_local.txt\")):\n",
    "    print(\"OK: simple data file directory seems to be OK\")\n",
    "else:\n",
    "    print(\"WARNING: simple data file directory doesn't look OK\")"
   ]
  },
  {
   "cell_type": "markdown",
   "id": "4db71590",
   "metadata": {},
   "source": [
    "There are 10 simple data files in the repository, numbered 0 to 9. Each of them is present in 3 version: local, peakfinder8, radial. The versions refer to the method that produced the spots.\n",
    "\n",
    "Choose a file/version:"
   ]
  },
  {
   "cell_type": "code",
   "execution_count": 5,
   "id": "a0006391",
   "metadata": {},
   "outputs": [
    {
     "name": "stdout",
     "output_type": "stream",
     "text": [
      "OK\n"
     ]
    }
   ],
   "source": [
    "file_number = 0\n",
    "file_version = \"peakfinder8\"\n",
    "\n",
    "file_path = os.path.join(simple_data_file_dir, f\"image{file_number}_{file_version}.txt\")\n",
    "if os.path.exists(file_path):\n",
    "    print(\"OK\")\n",
    "else:\n",
    "    print(\"WARNING: file/version doesn't exist\")"
   ]
  },
  {
   "cell_type": "markdown",
   "id": "2a1dbf9c",
   "metadata": {},
   "source": [
    "Read the simple data file. There should be one input cell in real space and some spots in reciprocal space. Some lines could be comments starting with \\#."
   ]
  },
  {
   "cell_type": "code",
   "execution_count": 6,
   "id": "96e7b275",
   "metadata": {},
   "outputs": [],
   "source": [
    "coords = []\n",
    "with open(file_path, \"r\") as f:\n",
    "    for line in f.readlines():\n",
    "        try:\n",
    "            coords += [float(x) for x in line.split()]\n",
    "        except:\n",
    "            pass"
   ]
  },
  {
   "cell_type": "markdown",
   "id": "3efff7f7",
   "metadata": {},
   "source": [
    "For the fast-feedback-indexer, input data has to be in float32 column major (Fortran) memory order. There should be a multiple of 3 coordinate pairs, as the cell and spot vectors are in 3D."
   ]
  },
  {
   "cell_type": "code",
   "execution_count": 7,
   "id": "68c9873d",
   "metadata": {},
   "outputs": [
    {
     "name": "stdout",
     "output_type": "stream",
     "text": [
      "(866, 3) float32\n",
      "  C_CONTIGUOUS : False\n",
      "  F_CONTIGUOUS : True\n",
      "  OWNDATA : True\n",
      "  WRITEABLE : True\n",
      "  ALIGNED : True\n",
      "  WRITEBACKIFCOPY : False\n",
      "\n"
     ]
    }
   ],
   "source": [
    "input_data = np.asarray(np.array(coords).reshape(-1, 3), dtype='float32', order='F')\n",
    "\n",
    "if input_data.shape[0] < 4:\n",
    "    print(\"WARNING: data looks bad\")\n",
    "\n",
    "print(input_data.shape, input_data.dtype)\n",
    "print(input_data.flags)"
   ]
  },
  {
   "cell_type": "markdown",
   "id": "7dc96d2b",
   "metadata": {},
   "source": [
    "First and only input cell in real space:"
   ]
  },
  {
   "cell_type": "code",
   "execution_count": 8,
   "id": "b7c135b4",
   "metadata": {},
   "outputs": [
    {
     "data": {
      "text/plain": [
       "array([[3.69000e+01, 0.00000e+00, 0.00000e+00],\n",
       "       [4.83429e-15, 7.89500e+01, 0.00000e+00],\n",
       "       [4.83429e-15, 4.83429e-15, 7.89500e+01]], dtype=float32)"
      ]
     },
     "execution_count": 8,
     "metadata": {},
     "output_type": "execute_result"
    }
   ],
   "source": [
    "input_cell = np.asarray(input_data[:3,:], dtype='float32', order='F')\n",
    "input_cell"
   ]
  },
  {
   "cell_type": "markdown",
   "id": "eaacebe3",
   "metadata": {},
   "source": [
    "First spot in reciprocal space:"
   ]
  },
  {
   "cell_type": "code",
   "execution_count": 9,
   "id": "a0bc8106",
   "metadata": {},
   "outputs": [
    {
     "data": {
      "text/plain": [
       "array([-0.0328844, -0.723767 , -0.31074  ], dtype=float32)"
      ]
     },
     "execution_count": 9,
     "metadata": {},
     "output_type": "execute_result"
    }
   ],
   "source": [
    "spots = np.asarray(input_data[3:,:], dtype='float32', order='F')\n",
    "spots[0,:]"
   ]
  },
  {
   "cell_type": "markdown",
   "id": "9f2f572f",
   "metadata": {},
   "source": [
    "Create an indexer object. This will return a handle to the object (sorry for the not so python-like interface). Check the description of [ffbidx.indexer()](https://github.com/paulscherrerinstitute/fast-feedback-indexer/tree/main/python). Her the argumets are:\n",
    "1) 32 output cells\n",
    "2) 1 input cell\n",
    "3) the 300 first are considered, or less if there aren't that many\n",
    "4) 32 candidate vectors: the algorithms single vector brute force sampling step takes the 32 best vectors and computes the 32 best cells using these vectors as rotation axes.\n",
    "\n",
    "The GPU device is set via the INDEXER_GPU_DEVICE environment variable. This call allocates memory on the GPU device."
   ]
  },
  {
   "cell_type": "code",
   "execution_count": 10,
   "id": "18445fb5",
   "metadata": {},
   "outputs": [
    {
     "name": "stderr",
     "output_type": "stream",
     "text": [
      "(info) using GPU device 0\n"
     ]
    }
   ],
   "source": [
    "os.environ[\"INDEXER_GPU_DEVICE\"] = \"0\"\n",
    "h = ffbidx.indexer(32, 1, 300, 32)"
   ]
  },
  {
   "cell_type": "markdown",
   "id": "22137c7f",
   "metadata": {},
   "source": [
    "Now you can index input data using [ffbidx.index()](https://github.com/paulscherrerinstitute/fast-feedback-indexer/tree/main/python). This function can be called several times, of course. E.g. for every frame to be indexed. The arguments are:\n",
    "1) indexer object handle\n",
    "2) spots in reciprocal space\n",
    "3) input cells in real space\n",
    "4) refinement method\n",
    "5) vector length threshold: vectors are considered to be of the same length if the length differs by less than this threshold\n",
    "6) lower trim value for scoring (look at the description in the repo)\n",
    "7) higher trim value for scoring (look at description)\n",
    "8) delta value for scoring (look at description)\n",
    "9) dist1 value for scoring (look at description)\n",
    "10) dist3 value for scoring (look at description)\n",
    "11) number of sampling points on the half sphere\n",
    "12) number of output cells (can be less than reserved for in the ffbidx.indexer() call)\n",
    "13) refinement threshold contraction factor: lsq refinment to spots approximated within a contracting threshold\n",
    "14) refinement maximum distance to spots: quit refinement when threshold falls below this distance\n",
    "15) refinement minimum number of spots: quit refinement if there are less spots within the refinement threshold\n",
    "16) refinement maximum number of iterations: quit refinement if the number of refinement iterations has reached this\n",
    "\n",
    "This returns the 32 best cells found together with scores (worst error among the best minimum number of spots). The cells are returned as a C array, but in column mayor (Fortran) order."
   ]
  },
  {
   "cell_type": "code",
   "execution_count": 11,
   "id": "be31a352",
   "metadata": {},
   "outputs": [
    {
     "name": "stdout",
     "output_type": "stream",
     "text": [
      "CPU times: user 3.67 ms, sys: 3.59 ms, total: 7.25 ms\n",
      "Wall time: 7.23 ms\n",
      "cells (3, 96) float32\n",
      "  C_CONTIGUOUS : True\n",
      "  F_CONTIGUOUS : False\n",
      "  OWNDATA : True\n",
      "  WRITEABLE : True\n",
      "  ALIGNED : True\n",
      "  WRITEBACKIFCOPY : False\n",
      "\n",
      "[[ 28.905704   39.43859   -28.186127  -28.905704   39.43859    28.186127\n",
      "  -28.905704  -39.43859   -28.186127   28.905704  -39.43859    28.186127\n",
      "  -28.905704  -39.43859   -28.186127   28.905704  -39.43859    28.186127\n",
      "  -28.906694  -39.44697   -28.181591   28.906694  -39.44697    28.181591\n",
      "   28.908583  -28.17637   -39.47669   -28.908583  -28.17637    39.47669\n",
      "  -28.907652   28.175327  -39.477245   28.907652   28.175327   39.477245\n",
      "   28.906685   39.446625  -28.178572  -28.906685   39.446625   28.178572\n",
      "   28.907953   39.437702  -28.188982  -28.907953   39.437702   28.188982\n",
      "   28.905704   39.43859   -28.186127  -28.905704   39.43859    28.186127\n",
      "   28.901854   39.449657  -28.189457  -28.901854   39.449657   28.189457\n",
      "   28.89721   -28.174004  -39.49737   -28.89721   -28.174004   39.49737\n",
      "  -28.898455   28.176455  -39.496502   28.898455   28.176455   39.496502\n",
      "  -28.899248  -39.457264  -28.192425   28.899248  -39.457264   28.192425\n",
      "   28.907497  -28.185371  -38.42387   -28.907497  -28.185371   38.42387\n",
      "  -28.919239   28.186306  -38.41084    28.919239   28.186306   38.41084\n",
      "   -8.625512  -39.467453  -65.76701     8.625512  -39.467453   65.76701  ]\n",
      " [-20.347624   24.97283   -60.396645   20.347624   24.97283    60.396645\n",
      "   20.347624  -24.97283   -60.396645  -20.347624  -24.97283    60.396645\n",
      "   20.347624  -24.97283   -60.396645  -20.347624  -24.97283    60.396645\n",
      "   20.33787   -24.960192  -60.40193   -20.33787   -24.960192   60.40193\n",
      "  -20.335312  -60.462765  -25.00783    20.335312  -60.462765   25.00783\n",
      "   20.330061   60.455963  -25.000988  -20.330061   60.455963   25.000988\n",
      "  -20.338242   24.960075  -60.40137    20.338242   24.960075   60.40137\n",
      "  -20.346712   24.972273  -60.396103   20.346712   24.972273   60.396103\n",
      "  -20.347624   24.97283   -60.396645   20.347624   24.97283    60.396645\n",
      "  -20.342129   24.961535  -60.40553    20.342129   24.961535   60.40553\n",
      "  -20.329979  -60.452663  -24.981733   20.329979  -60.452663   24.981733\n",
      "   20.329248   60.453823  -24.981768  -20.329248   60.453823   24.981768\n",
      "   20.343649  -24.964264  -60.409817  -20.343649  -24.964264   60.409817\n",
      "  -20.342712  -60.52245   -26.719942   20.342712  -60.52245    26.719942\n",
      "   20.345928   60.524628  -26.731592  -20.345928   60.524628   26.731592\n",
      "   34.829315  -24.983418   -5.2058096 -34.829315  -24.983418    5.2058096]\n",
      " [-10.23402    63.085175   41.00528    10.23402    63.085175  -41.00528\n",
      "   10.23402   -63.085175   41.00528   -10.23402   -63.085175  -41.00528\n",
      "   10.23402   -63.085175   41.00528   -10.23402   -63.085175  -41.00528\n",
      "   10.278424  -63.11019    40.981033  -10.278424  -63.11019   -40.981033\n",
      "  -10.3051605  41.129612  -62.957638   10.3051605  41.129612   62.957638\n",
      "   10.318942  -41.110825  -62.9756    -10.318942  -41.110825   62.9756\n",
      "  -10.278452   63.111126   40.983654   10.278452   63.111126  -40.983654\n",
      "  -10.242719   63.089973   41.009514   10.242719   63.089973  -41.009514\n",
      "  -10.23402    63.085175   41.00528    10.23402    63.085175  -41.00528\n",
      "  -10.290314   63.108437   40.961666   10.290314   63.108437  -40.961666\n",
      "  -10.379656   41.01651   -63.05392    10.379656   41.01651    63.05392\n",
      "   10.3773775 -41.016056  -63.05115   -10.3773775 -41.016056   63.05115\n",
      "   10.300183  -63.105595   40.96001   -10.300183  -63.105595  -40.96001\n",
      "  -10.381893   41.073486  -62.72084    10.381893   41.073486   62.72084\n",
      "   10.361923  -41.108543  -62.820328  -10.361923  -41.108543   62.820328\n",
      "   -8.412801  -62.980408   42.80747     8.412801  -62.980408  -42.80747  ]]\n",
      "scores (32,) float32\n",
      "[0.01035524 0.01035524 0.01035524 0.01035524 0.01035524 0.01035524\n",
      " 0.01123713 0.01123713 0.0118502  0.0118502  0.01175042 0.01175042\n",
      " 0.01072098 0.01072098 0.01095319 0.01095319 0.01035524 0.01035524\n",
      " 0.01183483 0.01183483 0.01168775 0.01168775 0.01034439 0.01034439\n",
      " 0.01141954 0.01141954 0.02396911 0.02396911 0.02398467 0.02398467\n",
      " 0.01369611 0.01369611]\n"
     ]
    },
    {
     "name": "stderr",
     "output_type": "stream",
     "text": [
      "(info) indexing_time: 3.00916ms\n",
      "(info) kernel_time: 2.94694ms\n"
     ]
    }
   ],
   "source": [
    "%time cells, scores = ffbidx.index(h, spots, input_cell, \"ifss\", 1e-9, .05, .3, .1, .3, .2, 32*1024, 32, .8, .001, 6, 15)\n",
    "print(\"cells\", cells.shape, cells.dtype)\n",
    "print(cells.flags)\n",
    "print(cells)\n",
    "print(\"scores\", scores.shape, scores.dtype)\n",
    "print(scores)"
   ]
  },
  {
   "cell_type": "markdown",
   "id": "b1441c55",
   "metadata": {},
   "source": [
    "Release the indexer object and associated resources on the GPU device. After that the handle is invalid."
   ]
  },
  {
   "cell_type": "code",
   "execution_count": 12,
   "id": "34d9d6da",
   "metadata": {},
   "outputs": [],
   "source": [
    "ffbidx.release(h)"
   ]
  },
  {
   "cell_type": "markdown",
   "id": "6dbc4d60",
   "metadata": {},
   "source": [
    "Look at the best cell now:"
   ]
  },
  {
   "cell_type": "code",
   "execution_count": 13,
   "id": "e3f9aa68",
   "metadata": {},
   "outputs": [
    {
     "name": "stdout",
     "output_type": "stream",
     "text": [
      "best score is 0.010344393\n"
     ]
    },
    {
     "data": {
      "text/plain": [
       "array([[-28.898455 ,  28.176455 , -39.496502 ],\n",
       "       [ 20.329248 ,  60.453823 , -24.981768 ],\n",
       "       [ 10.3773775, -41.016056 , -63.05115  ]], dtype=float32)"
      ]
     },
     "execution_count": 13,
     "metadata": {},
     "output_type": "execute_result"
    }
   ],
   "source": [
    "i = np.argmin(scores)\n",
    "print(\"best score is\", scores[i])\n",
    "cell = cells[:, 3*i:3*i+3]\n",
    "cell"
   ]
  },
  {
   "cell_type": "markdown",
   "id": "787f6666",
   "metadata": {},
   "source": [
    "Function to show some info for a lattice base B:"
   ]
  },
  {
   "cell_type": "code",
   "execution_count": 14,
   "id": "ff45812f",
   "metadata": {},
   "outputs": [],
   "source": [
    "def cell_info(B, **args):\n",
    "    return dict({\n",
    "        'det': np.linalg.det(B),\n",
    "        'vlen': np.linalg.norm(B, axis=0),\n",
    "        'angle': [np.rad2deg(np.arccos(np.dot(B[:, i], B[:, (i+1)%3]) / (np.linalg.norm(B[:, i]) * np.linalg.norm(B[:, (i+1)%3])))) for i in range(3)]\n",
    "    }, **args)\n"
   ]
  },
  {
   "cell_type": "code",
   "execution_count": 15,
   "id": "93bd4e52",
   "metadata": {},
   "outputs": [
    {
     "name": "stdout",
     "output_type": "stream",
     "text": [
      "{'det': 230001.47, 'vlen': array([36.9 , 78.95, 78.95], dtype=float32), 'angle': [90.0, 90.0, 90.0], 'cell': 'input'}\n",
      "{'det': 226285.55, 'vlen': array([36.825115, 78.300026, 78.482544], dtype=float32), 'angle': [90.21687, 90.345024, 90.41193], 'cell': 'best'}\n"
     ]
    }
   ],
   "source": [
    "print(cell_info(input_cell, cell=\"input\"))\n",
    "print(cell_info(cell, cell=\"best\"))"
   ]
  },
  {
   "cell_type": "markdown",
   "id": "45b13698",
   "metadata": {},
   "source": [
    "Function to plot some error statistics."
   ]
  },
  {
   "cell_type": "code",
   "execution_count": 16,
   "id": "dd6547c8",
   "metadata": {},
   "outputs": [],
   "source": [
    "def plot_error(B, S, title):\n",
    "    fig, ax = plt.subplots(nrows=1, ncols=3, figsize=(15,6))\n",
    "    C = S @ B\n",
    "    Z = C.round()\n",
    "    e = np.linalg.norm(C - Z, axis=1)\n",
    "    ax[0].plot(e)\n",
    "    ax[0].set_xlabel('spot')\n",
    "    ax[0].set_ylabel('error')\n",
    "    _ = ax[1].hist(e, bins=50)\n",
    "    ax[1].set_xlabel('error')\n",
    "    ax[1].set_ylabel('number of spots')\n",
    "    _ = ax[2].hist(e, bins=50, cumulative=True, histtype='step')\n",
    "    ax[2].set_xlabel('error')\n",
    "    ax[2].set_ylabel('number of spots')\n",
    "    ax[1].set_title(title)\n",
    "    plt.tight_layout()"
   ]
  },
  {
   "cell_type": "code",
   "execution_count": 17,
   "id": "20de6533",
   "metadata": {},
   "outputs": [
    {
     "data": {
      "image/png": "[encoded data removed]",
      "text/plain": [
       "<Figure size 1500x600 with 3 Axes>"
      ]
     },
     "metadata": {},
     "output_type": "display_data"
    }
   ],
   "source": [
    "plot_error(cell, spots, \"Some error statistics\")"
   ]
  },
  {
   "cell_type": "code",
   "execution_count": null,
   "id": "40ccf98e",
   "metadata": {},
   "outputs": [],
   "source": []
  }
 ],
 "metadata": {
  "kernelspec": {
   "display_name": "Python 3 (ipykernel)",
   "language": "python",
   "name": "python3"
  },
  "language_info": {
   "codemirror_mode": {
    "name": "ipython",
    "version": 3
   },
   "file_extension": ".py",
   "mimetype": "text/x-python",
   "name": "python",
   "nbconvert_exporter": "python",
   "pygments_lexer": "ipython3",
   "version": "3.11.8"
  },
  "vscode": {
   "interpreter": {
    "hash": "1bbd11e642fa61a330cc136191d56a331962618ee939c7219332224bb95f8f60"
   }
  }
 },
 "nbformat": 4,
 "nbformat_minor": 5
}
